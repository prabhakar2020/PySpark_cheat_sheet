{
 "cells": [
  {
   "cell_type": "code",
   "execution_count": 537,
   "id": "1e56a451",
   "metadata": {},
   "outputs": [],
   "source": [
    "from pyspark.sql import SparkSession"
   ]
  },
  {
   "cell_type": "code",
   "execution_count": 538,
   "id": "5ff037ec",
   "metadata": {},
   "outputs": [],
   "source": [
    "spark = SparkSession.builder.master(\"local[0]\").appName(\"SparkExamples.com\").getOrCreate()"
   ]
  },
  {
   "cell_type": "code",
   "execution_count": 539,
   "id": "0e52f5c2",
   "metadata": {},
   "outputs": [],
   "source": [
    "data = [(1,'James',None,'Smith',51,10,'.Net','Newyork', '1991-04-01','M',3000),\n",
    "  (2,'Michael','Rose',None,45,11,'Ruby','Newyork', '2000-05-19','M',4000),\n",
    "  (3,'Robert',None,'Williams',32,10,'Scala','California','1978-09-05','M',4000),\n",
    "  (4,'Maria','Anne','Jones',36,9,'Java','Hyderabad','1967-12-01','F',5000),\n",
    "  (5,'Jen','Mary','Brown',39,5,'Scala','Nagpur','1980-02-17','F',0),\n",
    "  (6,'Prabhakar','B','G',33,11,'Python','Pune','1967-12-01','M',5000),\n",
    "  (7,'Praveen','B','G',21,13,'Java','Hyderabad','1967-12-01','M',6500),\n",
    "  (8,'Rajesh','B','G',25,2,'Scala','Nellore','1967-12-01','M',5100),\n",
    "  (9,'Pramodh','B','G',49,9,'Ruby','Pune','1967-12-01','M',5000),\n",
    "  (10,'Ajay',None,None,50,10,None,'Pune','1967-12-01','M',2500),\n",
    "  (11,'Bob','D',None,43,14,'R','Hyderabad','1967-12-01','M',2500),\n",
    "  (12,'Chris','B','Smith',47,12,'JavaScript',None,'1967-12-01','M',2500),\n",
    "  (13,None,None,None,55,None,None,None,None,None,None),\n",
    "]\n",
    "\n",
    "columns = [\"SrNo\", \"firstname\",\"middlename\",\"lastname\",\"age\",\"experiance\",\"skill\",\"city\", \"dob\",\"gender\",\"salary\"]"
   ]
  },
  {
   "cell_type": "code",
   "execution_count": 540,
   "id": "d3ede038",
   "metadata": {},
   "outputs": [],
   "source": [
    "df = spark.createDataFrame(data=data, schema = columns)"
   ]
  },
  {
   "cell_type": "code",
   "execution_count": 541,
   "id": "0f523a09",
   "metadata": {},
   "outputs": [
    {
     "name": "stdout",
     "output_type": "stream",
     "text": [
      "+----+---------+----------+--------+---+----------+----------+----------+----------+------+------+\n",
      "|SrNo|firstname|middlename|lastname|age|experiance|     skill|      city|       dob|gender|salary|\n",
      "+----+---------+----------+--------+---+----------+----------+----------+----------+------+------+\n",
      "|   1|    James|      null|   Smith| 51|        10|      .Net|   Newyork|1991-04-01|     M|  3000|\n",
      "|   2|  Michael|      Rose|    null| 45|        11|      Ruby|   Newyork|2000-05-19|     M|  4000|\n",
      "|   3|   Robert|      null|Williams| 32|        10|     Scala|California|1978-09-05|     M|  4000|\n",
      "|   4|    Maria|      Anne|   Jones| 36|         9|      Java| Hyderabad|1967-12-01|     F|  5000|\n",
      "|   5|      Jen|      Mary|   Brown| 39|         5|     Scala|    Nagpur|1980-02-17|     F|     0|\n",
      "|   6|Prabhakar|         B|       G| 33|        11|    Python|      Pune|1967-12-01|     M|  5000|\n",
      "|   7|  Praveen|         B|       G| 21|        13|      Java| Hyderabad|1967-12-01|     M|  6500|\n",
      "|   8|   Rajesh|         B|       G| 25|         2|     Scala|   Nellore|1967-12-01|     M|  5100|\n",
      "|   9|  Pramodh|         B|       G| 49|         9|      Ruby|      Pune|1967-12-01|     M|  5000|\n",
      "|  10|     Ajay|      null|    null| 50|        10|      null|      Pune|1967-12-01|     M|  2500|\n",
      "|  11|      Bob|         D|    null| 43|        14|         R| Hyderabad|1967-12-01|     M|  2500|\n",
      "|  12|    Chris|         B|   Smith| 47|        12|JavaScript|      null|1967-12-01|     M|  2500|\n",
      "|  13|     null|      null|    null| 55|      null|      null|      null|      null|  null|  null|\n",
      "+----+---------+----------+--------+---+----------+----------+----------+----------+------+------+\n",
      "\n"
     ]
    }
   ],
   "source": [
    "df.show()"
   ]
  },
  {
   "cell_type": "markdown",
   "id": "5cadc533",
   "metadata": {},
   "source": [
    "# Convert dataframe to SQL object"
   ]
  },
  {
   "cell_type": "code",
   "execution_count": 542,
   "id": "4a5e4584",
   "metadata": {},
   "outputs": [],
   "source": [
    "df.createOrReplaceTempView('PERSON_DATA')"
   ]
  },
  {
   "cell_type": "markdown",
   "id": "057e88c3",
   "metadata": {},
   "source": [
    "# SQL Query operations on Dataframe"
   ]
  },
  {
   "cell_type": "code",
   "execution_count": 543,
   "id": "d68a3928",
   "metadata": {},
   "outputs": [],
   "source": [
    "df_sql = spark.sql(\"select * from PERSON_DATA\")"
   ]
  },
  {
   "cell_type": "code",
   "execution_count": 544,
   "id": "9b654c92",
   "metadata": {},
   "outputs": [
    {
     "name": "stdout",
     "output_type": "stream",
     "text": [
      "+----+---------+----------+--------+---+----------+----------+----------+----------+------+------+\n",
      "|SrNo|firstname|middlename|lastname|age|experiance|     skill|      city|       dob|gender|salary|\n",
      "+----+---------+----------+--------+---+----------+----------+----------+----------+------+------+\n",
      "|   1|    James|      null|   Smith| 51|        10|      .Net|   Newyork|1991-04-01|     M|  3000|\n",
      "|   2|  Michael|      Rose|    null| 45|        11|      Ruby|   Newyork|2000-05-19|     M|  4000|\n",
      "|   3|   Robert|      null|Williams| 32|        10|     Scala|California|1978-09-05|     M|  4000|\n",
      "|   4|    Maria|      Anne|   Jones| 36|         9|      Java| Hyderabad|1967-12-01|     F|  5000|\n",
      "|   5|      Jen|      Mary|   Brown| 39|         5|     Scala|    Nagpur|1980-02-17|     F|     0|\n",
      "|   6|Prabhakar|         B|       G| 33|        11|    Python|      Pune|1967-12-01|     M|  5000|\n",
      "|   7|  Praveen|         B|       G| 21|        13|      Java| Hyderabad|1967-12-01|     M|  6500|\n",
      "|   8|   Rajesh|         B|       G| 25|         2|     Scala|   Nellore|1967-12-01|     M|  5100|\n",
      "|   9|  Pramodh|         B|       G| 49|         9|      Ruby|      Pune|1967-12-01|     M|  5000|\n",
      "|  10|     Ajay|      null|    null| 50|        10|      null|      Pune|1967-12-01|     M|  2500|\n",
      "|  11|      Bob|         D|    null| 43|        14|         R| Hyderabad|1967-12-01|     M|  2500|\n",
      "|  12|    Chris|         B|   Smith| 47|        12|JavaScript|      null|1967-12-01|     M|  2500|\n",
      "|  13|     null|      null|    null| 55|      null|      null|      null|      null|  null|  null|\n",
      "+----+---------+----------+--------+---+----------+----------+----------+----------+------+------+\n",
      "\n"
     ]
    }
   ],
   "source": [
    "df_sql.show()"
   ]
  },
  {
   "cell_type": "code",
   "execution_count": 545,
   "id": "ca445299",
   "metadata": {},
   "outputs": [
    {
     "name": "stdout",
     "output_type": "stream",
     "text": [
      "+------+--------+\n",
      "|gender|count(1)|\n",
      "+------+--------+\n",
      "|     F|       2|\n",
      "|  null|       1|\n",
      "|     M|      10|\n",
      "+------+--------+\n",
      "\n"
     ]
    }
   ],
   "source": [
    "spark.sql(\"select gender,count(*) from PERSON_DATA group by gender\").show()"
   ]
  },
  {
   "cell_type": "code",
   "execution_count": 546,
   "id": "9bc8249b",
   "metadata": {},
   "outputs": [
    {
     "name": "stdout",
     "output_type": "stream",
     "text": [
      "+----------+--------+\n",
      "|      city|count(1)|\n",
      "+----------+--------+\n",
      "|      null|       2|\n",
      "|   Newyork|       2|\n",
      "|   Nellore|       1|\n",
      "|      Pune|       3|\n",
      "|    Nagpur|       1|\n",
      "| Hyderabad|       3|\n",
      "|California|       1|\n",
      "+----------+--------+\n",
      "\n"
     ]
    }
   ],
   "source": [
    "spark.sql(\"select city,count(*) from PERSON_DATA group by city\").show()"
   ]
  },
  {
   "cell_type": "code",
   "execution_count": 547,
   "id": "c04cf2a0",
   "metadata": {},
   "outputs": [
    {
     "name": "stdout",
     "output_type": "stream",
     "text": [
      "+----------+---------------+\n",
      "|     Skill|Total_Employees|\n",
      "+----------+---------------+\n",
      "|      .Net|              1|\n",
      "|JavaScript|              1|\n",
      "|      null|              2|\n",
      "|         R|              1|\n",
      "|     Scala|              3|\n",
      "|      Ruby|              2|\n",
      "|    Python|              1|\n",
      "|      Java|              2|\n",
      "+----------+---------------+\n",
      "\n"
     ]
    }
   ],
   "source": [
    "spark.sql(\"select skill as Skill,count(*) as Total_Employees from PERSON_DATA group by skill\").show()"
   ]
  },
  {
   "cell_type": "code",
   "execution_count": 548,
   "id": "d8ea88ed",
   "metadata": {},
   "outputs": [
    {
     "name": "stdout",
     "output_type": "stream",
     "text": [
      "+----+---------+----------+--------+---+----------+------+---------+----------+------+------+\n",
      "|SrNo|firstname|middlename|lastname|age|experiance| skill|     city|       dob|gender|salary|\n",
      "+----+---------+----------+--------+---+----------+------+---------+----------+------+------+\n",
      "|   6|Prabhakar|         B|       G| 33|        11|Python|     Pune|1967-12-01|     M|  5000|\n",
      "|   7|  Praveen|         B|       G| 21|        13|  Java|Hyderabad|1967-12-01|     M|  6500|\n",
      "|   9|  Pramodh|         B|       G| 49|         9|  Ruby|     Pune|1967-12-01|     M|  5000|\n",
      "+----+---------+----------+--------+---+----------+------+---------+----------+------+------+\n",
      "\n"
     ]
    }
   ],
   "source": [
    "spark.sql(\"select * from PERSON_DATA where firstname like '%P%'\").show()"
   ]
  },
  {
   "cell_type": "code",
   "execution_count": 549,
   "id": "02bc6335",
   "metadata": {},
   "outputs": [
    {
     "name": "stdout",
     "output_type": "stream",
     "text": [
      "+----+---------+----------+--------+---+----------+------+----------+----------+------+------+\n",
      "|SrNo|firstname|middlename|lastname|age|experiance| skill|      city|       dob|gender|salary|\n",
      "+----+---------+----------+--------+---+----------+------+----------+----------+------+------+\n",
      "|   2|  Michael|      Rose|    null| 45|        11|  Ruby|   Newyork|2000-05-19|     M|  4000|\n",
      "|   3|   Robert|      null|Williams| 32|        10| Scala|California|1978-09-05|     M|  4000|\n",
      "|   4|    Maria|      Anne|   Jones| 36|         9|  Java| Hyderabad|1967-12-01|     F|  5000|\n",
      "|   6|Prabhakar|         B|       G| 33|        11|Python|      Pune|1967-12-01|     M|  5000|\n",
      "|   7|  Praveen|         B|       G| 21|        13|  Java| Hyderabad|1967-12-01|     M|  6500|\n",
      "|   8|   Rajesh|         B|       G| 25|         2| Scala|   Nellore|1967-12-01|     M|  5100|\n",
      "|   9|  Pramodh|         B|       G| 49|         9|  Ruby|      Pune|1967-12-01|     M|  5000|\n",
      "+----+---------+----------+--------+---+----------+------+----------+----------+------+------+\n",
      "\n"
     ]
    }
   ],
   "source": [
    "spark.sql(\"select * from PERSON_DATA where salary > 3000\").show()"
   ]
  },
  {
   "cell_type": "markdown",
   "id": "d7bb6cbf",
   "metadata": {},
   "source": [
    "# Read CSV file content"
   ]
  },
  {
   "cell_type": "code",
   "execution_count": 550,
   "id": "447db89f",
   "metadata": {},
   "outputs": [
    {
     "name": "stdout",
     "output_type": "stream",
     "text": [
      "+----+---------+----------+--------+---+----------+----------+----------+----------+------+------+\n",
      "|SrNo|firstname|middlename|lastname|age|experiance|     skill|      city|       dob|gender|salary|\n",
      "+----+---------+----------+--------+---+----------+----------+----------+----------+------+------+\n",
      "|   1|    James|      None|   Smith| 51|        10|      .Net|   Newyork|1991-04-01|     M|  3000|\n",
      "|   2|  Michael|      Rose|    None| 45|        11|      Ruby|   Newyork|2000-05-19|     M|  4000|\n",
      "|   3|   Robert|      None|Williams| 32|        10|     Scala|California|1978-09-05|     M|  4000|\n",
      "|   4|    Maria|      Anne|   Jones| 36|         9|      Java| Hyderabad|1967-12-01|     F|  5000|\n",
      "|   5|      Jen|      Mary|   Brown| 39|         5|     Scala|    Nagpur|1980-02-17|     F|     0|\n",
      "|   6|Prabhakar|         B|       G| 33|        11|    Python|      Pune|1967-12-01|     M|  5000|\n",
      "|   7|  Praveen|         B|       G| 21|        13|      Java| Hyderabad|1967-12-01|     M|  6500|\n",
      "|   8|   Rajesh|         B|       G| 25|         2|     Scala|   Nellore|1967-12-01|     M|  5100|\n",
      "|   9|  Pramodh|         B|       G| 49|         9|      Ruby|      Pune|1967-12-01|     M|  5000|\n",
      "|  10|     Ajay|      None|    None| 50|        10|      None|      Pune|1967-12-01|     M|  2500|\n",
      "|  11|      Bob|         D|    None| 43|        14|         R| Hyderabad|1967-12-01|     M|  2500|\n",
      "|  12|    Chris|         B|   Smith| 47|        12|JavaScript|      None|1967-12-01|     M|  2500|\n",
      "|  13|     None|      None|    None| 55|      None|      None|      None|      None|  None|  None|\n",
      "|  14|      Bob|         D|    None| 43|        14|         R| Hyderabad|1967-12-01|     M|  2500|\n",
      "+----+---------+----------+--------+---+----------+----------+----------+----------+------+------+\n",
      "\n"
     ]
    }
   ],
   "source": [
    "df_csv = spark.read.csv('/home/pgadupudi/Documents/employees.csv',header=True, inferSchema=True)\n",
    "df_csv.show()"
   ]
  },
  {
   "cell_type": "markdown",
   "id": "a1f99053",
   "metadata": {},
   "source": [
    "# Convert CSV file dataframe to SQL table\n"
   ]
  },
  {
   "cell_type": "code",
   "execution_count": 551,
   "id": "5268b7cf",
   "metadata": {},
   "outputs": [
    {
     "name": "stdout",
     "output_type": "stream",
     "text": [
      "+----+---------+----------+--------+---+----------+----------+----------+----------+------+------+\n",
      "|SrNo|firstname|middlename|lastname|age|experiance|     skill|      city|       dob|gender|salary|\n",
      "+----+---------+----------+--------+---+----------+----------+----------+----------+------+------+\n",
      "|   1|    James|      None|   Smith| 51|        10|      .Net|   Newyork|1991-04-01|     M|  3000|\n",
      "|   2|  Michael|      Rose|    None| 45|        11|      Ruby|   Newyork|2000-05-19|     M|  4000|\n",
      "|   3|   Robert|      None|Williams| 32|        10|     Scala|California|1978-09-05|     M|  4000|\n",
      "|   4|    Maria|      Anne|   Jones| 36|         9|      Java| Hyderabad|1967-12-01|     F|  5000|\n",
      "|   5|      Jen|      Mary|   Brown| 39|         5|     Scala|    Nagpur|1980-02-17|     F|     0|\n",
      "|   6|Prabhakar|         B|       G| 33|        11|    Python|      Pune|1967-12-01|     M|  5000|\n",
      "|   7|  Praveen|         B|       G| 21|        13|      Java| Hyderabad|1967-12-01|     M|  6500|\n",
      "|   8|   Rajesh|         B|       G| 25|         2|     Scala|   Nellore|1967-12-01|     M|  5100|\n",
      "|   9|  Pramodh|         B|       G| 49|         9|      Ruby|      Pune|1967-12-01|     M|  5000|\n",
      "|  10|     Ajay|      None|    None| 50|        10|      None|      Pune|1967-12-01|     M|  2500|\n",
      "|  11|      Bob|         D|    None| 43|        14|         R| Hyderabad|1967-12-01|     M|  2500|\n",
      "|  12|    Chris|         B|   Smith| 47|        12|JavaScript|      None|1967-12-01|     M|  2500|\n",
      "|  13|     None|      None|    None| 55|      None|      None|      None|      None|  None|  None|\n",
      "|  14|      Bob|         D|    None| 43|        14|         R| Hyderabad|1967-12-01|     M|  2500|\n",
      "+----+---------+----------+--------+---+----------+----------+----------+----------+------+------+\n",
      "\n"
     ]
    }
   ],
   "source": [
    "df_csv.createOrReplaceTempView('EMPLOYEES')\n",
    "spark.sql('select * from EMPLOYEES').show()"
   ]
  },
  {
   "cell_type": "code",
   "execution_count": 552,
   "id": "f376279d",
   "metadata": {},
   "outputs": [
    {
     "name": "stdout",
     "output_type": "stream",
     "text": [
      "+----+---------+----------+--------+---+----------+------+----+----------+------+------+\n",
      "|SrNo|firstname|middlename|lastname|age|experiance| skill|city|       dob|gender|salary|\n",
      "+----+---------+----------+--------+---+----------+------+----+----------+------+------+\n",
      "|   6|Prabhakar|         B|       G| 33|        11|Python|Pune|1967-12-01|     M|  5000|\n",
      "+----+---------+----------+--------+---+----------+------+----+----------+------+------+\n",
      "\n"
     ]
    }
   ],
   "source": [
    "spark.sql(\"select * from EMPLOYEES where skill='Python'\").show()"
   ]
  },
  {
   "cell_type": "markdown",
   "id": "63d842a6",
   "metadata": {},
   "source": [
    "# PySpark cheat sheet"
   ]
  },
  {
   "cell_type": "code",
   "execution_count": 553,
   "id": "afef9f22",
   "metadata": {},
   "outputs": [],
   "source": [
    "## ACtual Dataframe output"
   ]
  },
  {
   "cell_type": "code",
   "execution_count": 554,
   "id": "4ca9311b",
   "metadata": {},
   "outputs": [
    {
     "name": "stdout",
     "output_type": "stream",
     "text": [
      "+----+---------+----------+--------+---+----------+----------+----------+----------+------+------+\n",
      "|SrNo|firstname|middlename|lastname|age|experiance|     skill|      city|       dob|gender|salary|\n",
      "+----+---------+----------+--------+---+----------+----------+----------+----------+------+------+\n",
      "|   1|    James|      null|   Smith| 51|        10|      .Net|   Newyork|1991-04-01|     M|  3000|\n",
      "|   2|  Michael|      Rose|    null| 45|        11|      Ruby|   Newyork|2000-05-19|     M|  4000|\n",
      "|   3|   Robert|      null|Williams| 32|        10|     Scala|California|1978-09-05|     M|  4000|\n",
      "|   4|    Maria|      Anne|   Jones| 36|         9|      Java| Hyderabad|1967-12-01|     F|  5000|\n",
      "|   5|      Jen|      Mary|   Brown| 39|         5|     Scala|    Nagpur|1980-02-17|     F|     0|\n",
      "|   6|Prabhakar|         B|       G| 33|        11|    Python|      Pune|1967-12-01|     M|  5000|\n",
      "|   7|  Praveen|         B|       G| 21|        13|      Java| Hyderabad|1967-12-01|     M|  6500|\n",
      "|   8|   Rajesh|         B|       G| 25|         2|     Scala|   Nellore|1967-12-01|     M|  5100|\n",
      "|   9|  Pramodh|         B|       G| 49|         9|      Ruby|      Pune|1967-12-01|     M|  5000|\n",
      "|  10|     Ajay|      null|    null| 50|        10|      null|      Pune|1967-12-01|     M|  2500|\n",
      "|  11|      Bob|         D|    null| 43|        14|         R| Hyderabad|1967-12-01|     M|  2500|\n",
      "|  12|    Chris|         B|   Smith| 47|        12|JavaScript|      null|1967-12-01|     M|  2500|\n",
      "|  13|     null|      null|    null| 55|      null|      null|      null|      null|  null|  null|\n",
      "+----+---------+----------+--------+---+----------+----------+----------+----------+------+------+\n",
      "\n"
     ]
    }
   ],
   "source": [
    "df.show()"
   ]
  },
  {
   "cell_type": "markdown",
   "id": "c61626c1",
   "metadata": {},
   "source": [
    "## Drop duplicates"
   ]
  },
  {
   "cell_type": "code",
   "execution_count": 555,
   "id": "05cd1bab",
   "metadata": {},
   "outputs": [
    {
     "name": "stdout",
     "output_type": "stream",
     "text": [
      "+----+---------+----------+--------+---+----------+----------+----------+----------+------+------+\n",
      "|SrNo|firstname|middlename|lastname|age|experiance|     skill|      city|       dob|gender|salary|\n",
      "+----+---------+----------+--------+---+----------+----------+----------+----------+------+------+\n",
      "|   8|   Rajesh|         B|       G| 25|         2|     Scala|   Nellore|1967-12-01|     M|  5100|\n",
      "|   6|Prabhakar|         B|       G| 33|        11|    Python|      Pune|1967-12-01|     M|  5000|\n",
      "|  10|     Ajay|      null|    null| 50|        10|      null|      Pune|1967-12-01|     M|  2500|\n",
      "|  11|      Bob|         D|    null| 43|        14|         R| Hyderabad|1967-12-01|     M|  2500|\n",
      "|   2|  Michael|      Rose|    null| 45|        11|      Ruby|   Newyork|2000-05-19|     M|  4000|\n",
      "|  12|    Chris|         B|   Smith| 47|        12|JavaScript|      null|1967-12-01|     M|  2500|\n",
      "|   7|  Praveen|         B|       G| 21|        13|      Java| Hyderabad|1967-12-01|     M|  6500|\n",
      "|   1|    James|      null|   Smith| 51|        10|      .Net|   Newyork|1991-04-01|     M|  3000|\n",
      "|   3|   Robert|      null|Williams| 32|        10|     Scala|California|1978-09-05|     M|  4000|\n",
      "|  13|     null|      null|    null| 55|      null|      null|      null|      null|  null|  null|\n",
      "|   4|    Maria|      Anne|   Jones| 36|         9|      Java| Hyderabad|1967-12-01|     F|  5000|\n",
      "|   5|      Jen|      Mary|   Brown| 39|         5|     Scala|    Nagpur|1980-02-17|     F|     0|\n",
      "|   9|  Pramodh|         B|       G| 49|         9|      Ruby|      Pune|1967-12-01|     M|  5000|\n",
      "+----+---------+----------+--------+---+----------+----------+----------+----------+------+------+\n",
      "\n"
     ]
    }
   ],
   "source": [
    "df.dropDuplicates().show()\n",
    "\n",
    "# Here 'Prabhakar' user name entry was apperead two types. dropDuplicates function will remove duplicate entries"
   ]
  },
  {
   "cell_type": "markdown",
   "id": "50e10899",
   "metadata": {},
   "source": [
    "## Select"
   ]
  },
  {
   "cell_type": "code",
   "execution_count": 556,
   "id": "d4b2d4d2",
   "metadata": {},
   "outputs": [
    {
     "name": "stdout",
     "output_type": "stream",
     "text": [
      "+---------+\n",
      "|firstname|\n",
      "+---------+\n",
      "|    James|\n",
      "|  Michael|\n",
      "|   Robert|\n",
      "|    Maria|\n",
      "|      Jen|\n",
      "|Prabhakar|\n",
      "|  Praveen|\n",
      "|   Rajesh|\n",
      "|  Pramodh|\n",
      "|     Ajay|\n",
      "|      Bob|\n",
      "|    Chris|\n",
      "|     null|\n",
      "+---------+\n",
      "\n"
     ]
    }
   ],
   "source": [
    "df.select('firstname').show()"
   ]
  },
  {
   "cell_type": "code",
   "execution_count": 557,
   "id": "39662e6a",
   "metadata": {},
   "outputs": [
    {
     "name": "stdout",
     "output_type": "stream",
     "text": [
      "+---------+--------+----------+\n",
      "|firstname|lastname|      city|\n",
      "+---------+--------+----------+\n",
      "|    James|   Smith|   Newyork|\n",
      "|  Michael|    null|   Newyork|\n",
      "|   Robert|Williams|California|\n",
      "|    Maria|   Jones| Hyderabad|\n",
      "|      Jen|   Brown|    Nagpur|\n",
      "|Prabhakar|       G|      Pune|\n",
      "|  Praveen|       G| Hyderabad|\n",
      "|   Rajesh|       G|   Nellore|\n",
      "|  Pramodh|       G|      Pune|\n",
      "|     Ajay|    null|      Pune|\n",
      "|      Bob|    null| Hyderabad|\n",
      "|    Chris|   Smith|      null|\n",
      "|     null|    null|      null|\n",
      "+---------+--------+----------+\n",
      "\n"
     ]
    }
   ],
   "source": [
    "df.select('firstname', 'lastname', 'city').show()"
   ]
  },
  {
   "cell_type": "code",
   "execution_count": 558,
   "id": "7e0f3111",
   "metadata": {},
   "outputs": [
    {
     "name": "stdout",
     "output_type": "stream",
     "text": [
      "+---------+--------------+\n",
      "|firstname|(salary + 100)|\n",
      "+---------+--------------+\n",
      "|    James|          3100|\n",
      "|  Michael|          4100|\n",
      "|   Robert|          4100|\n",
      "|    Maria|          5100|\n",
      "|      Jen|           100|\n",
      "|Prabhakar|          5100|\n",
      "|  Praveen|          6600|\n",
      "|   Rajesh|          5200|\n",
      "|  Pramodh|          5100|\n",
      "|     Ajay|          2600|\n",
      "|      Bob|          2600|\n",
      "|    Chris|          2600|\n",
      "|     null|          null|\n",
      "+---------+--------------+\n",
      "\n"
     ]
    }
   ],
   "source": [
    "df.select(df['firstname'], df['salary'] + 100).show()\n",
    "# Adding +100 value on each user salary"
   ]
  },
  {
   "cell_type": "code",
   "execution_count": 559,
   "id": "296c8d6d",
   "metadata": {},
   "outputs": [
    {
     "name": "stdout",
     "output_type": "stream",
     "text": [
      "+---------+---------------+\n",
      "|firstname|(salary > 4000)|\n",
      "+---------+---------------+\n",
      "|    James|          false|\n",
      "|  Michael|          false|\n",
      "|   Robert|          false|\n",
      "|    Maria|           true|\n",
      "|      Jen|          false|\n",
      "|Prabhakar|           true|\n",
      "|  Praveen|           true|\n",
      "|   Rajesh|           true|\n",
      "|  Pramodh|           true|\n",
      "|     Ajay|          false|\n",
      "|      Bob|          false|\n",
      "|    Chris|          false|\n",
      "|     null|           null|\n",
      "+---------+---------------+\n",
      "\n"
     ]
    }
   ],
   "source": [
    "df.select('firstname', df['salary'] > 4000).show()"
   ]
  },
  {
   "cell_type": "code",
   "execution_count": 560,
   "id": "c01999de",
   "metadata": {},
   "outputs": [
    {
     "name": "stdout",
     "output_type": "stream",
     "text": [
      "+------------------+\n",
      "|     (salary / 13)|\n",
      "+------------------+\n",
      "|230.76923076923077|\n",
      "| 307.6923076923077|\n",
      "| 307.6923076923077|\n",
      "|384.61538461538464|\n",
      "|               0.0|\n",
      "|384.61538461538464|\n",
      "|             500.0|\n",
      "| 392.3076923076923|\n",
      "|384.61538461538464|\n",
      "|192.30769230769232|\n",
      "|192.30769230769232|\n",
      "|192.30769230769232|\n",
      "|              null|\n",
      "+------------------+\n",
      "\n"
     ]
    }
   ],
   "source": [
    "df.select(df['salary']/df.count()).show()"
   ]
  },
  {
   "cell_type": "markdown",
   "id": "aaa701ac",
   "metadata": {},
   "source": [
    "## When "
   ]
  },
  {
   "cell_type": "code",
   "execution_count": 561,
   "id": "b068b016",
   "metadata": {},
   "outputs": [],
   "source": [
    "# df.select('firstname', df.when(df.city['Pune'], 1).otherwise(0))"
   ]
  },
  {
   "cell_type": "code",
   "execution_count": 562,
   "id": "5ebf9b64",
   "metadata": {},
   "outputs": [
    {
     "name": "stdout",
     "output_type": "stream",
     "text": [
      "+----+---------+----------+--------+---+----------+------+---------+----------+------+------+\n",
      "|SrNo|firstname|middlename|lastname|age|experiance| skill|     city|       dob|gender|salary|\n",
      "+----+---------+----------+--------+---+----------+------+---------+----------+------+------+\n",
      "|   6|Prabhakar|         B|       G| 33|        11|Python|     Pune|1967-12-01|     M|  5000|\n",
      "|   7|  Praveen|         B|       G| 21|        13|  Java|Hyderabad|1967-12-01|     M|  6500|\n",
      "+----+---------+----------+--------+---+----------+------+---------+----------+------+------+\n",
      "\n"
     ]
    }
   ],
   "source": [
    "df[df.firstname.isin(\"Prabhakar\", \"Praveen\")].show()"
   ]
  },
  {
   "cell_type": "markdown",
   "id": "6e93319e",
   "metadata": {},
   "source": [
    "## Like"
   ]
  },
  {
   "cell_type": "code",
   "execution_count": 563,
   "id": "eda43404",
   "metadata": {},
   "outputs": [
    {
     "name": "stdout",
     "output_type": "stream",
     "text": [
      "+---------+------------------------+\n",
      "|firstname|firstname LIKE Prabhakar|\n",
      "+---------+------------------------+\n",
      "|    James|                   false|\n",
      "|  Michael|                   false|\n",
      "|   Robert|                   false|\n",
      "|    Maria|                   false|\n",
      "|      Jen|                   false|\n",
      "|Prabhakar|                    true|\n",
      "|  Praveen|                   false|\n",
      "|   Rajesh|                   false|\n",
      "|  Pramodh|                   false|\n",
      "|     Ajay|                   false|\n",
      "|      Bob|                   false|\n",
      "|    Chris|                   false|\n",
      "|     null|                    null|\n",
      "+---------+------------------------+\n",
      "\n"
     ]
    }
   ],
   "source": [
    "df.select('firstname', df.firstname.like('Prabhakar')).show()"
   ]
  },
  {
   "cell_type": "markdown",
   "id": "9ccf03c0",
   "metadata": {},
   "source": [
    "## Startswith - Endswith"
   ]
  },
  {
   "cell_type": "code",
   "execution_count": 564,
   "id": "16e3ae7a",
   "metadata": {},
   "outputs": [
    {
     "name": "stdout",
     "output_type": "stream",
     "text": [
      "+---------+-------------------------+\n",
      "|firstname|startswith(firstname, Pr)|\n",
      "+---------+-------------------------+\n",
      "|    James|                    false|\n",
      "|  Michael|                    false|\n",
      "|   Robert|                    false|\n",
      "|    Maria|                    false|\n",
      "|      Jen|                    false|\n",
      "|Prabhakar|                     true|\n",
      "|  Praveen|                     true|\n",
      "|   Rajesh|                    false|\n",
      "|  Pramodh|                     true|\n",
      "|     Ajay|                    false|\n",
      "|      Bob|                    false|\n",
      "|    Chris|                    false|\n",
      "|     null|                     null|\n",
      "+---------+-------------------------+\n",
      "\n"
     ]
    }
   ],
   "source": [
    "df.select('firstname', df.firstname.startswith('Pr')).show()"
   ]
  },
  {
   "cell_type": "code",
   "execution_count": 565,
   "id": "39411b5c",
   "metadata": {},
   "outputs": [
    {
     "name": "stdout",
     "output_type": "stream",
     "text": [
      "+---------+------------------------+\n",
      "|firstname|endswith(firstname, een)|\n",
      "+---------+------------------------+\n",
      "|    James|                   false|\n",
      "|  Michael|                   false|\n",
      "|   Robert|                   false|\n",
      "|    Maria|                   false|\n",
      "|      Jen|                   false|\n",
      "|Prabhakar|                   false|\n",
      "|  Praveen|                    true|\n",
      "|   Rajesh|                   false|\n",
      "|  Pramodh|                   false|\n",
      "|     Ajay|                   false|\n",
      "|      Bob|                   false|\n",
      "|    Chris|                   false|\n",
      "|     null|                    null|\n",
      "+---------+------------------------+\n",
      "\n"
     ]
    }
   ],
   "source": [
    "df.select('firstname', df.firstname.endswith('een')).show()"
   ]
  },
  {
   "cell_type": "markdown",
   "id": "37064a05",
   "metadata": {},
   "source": [
    "## Substring"
   ]
  },
  {
   "cell_type": "code",
   "execution_count": 566,
   "id": "d14d02a6",
   "metadata": {},
   "outputs": [
    {
     "name": "stdout",
     "output_type": "stream",
     "text": [
      "+----+\n",
      "|name|\n",
      "+----+\n",
      "| Jam|\n",
      "| Mic|\n",
      "| Rob|\n",
      "| Mar|\n",
      "| Jen|\n",
      "| Pra|\n",
      "| Pra|\n",
      "| Raj|\n",
      "| Pra|\n",
      "| Aja|\n",
      "| Bob|\n",
      "| Chr|\n",
      "|null|\n",
      "+----+\n",
      "\n"
     ]
    }
   ],
   "source": [
    "df.select(df.firstname.substr(1,3).alias('name')).show()\n",
    "## Displays first 3 characters from firstname column values"
   ]
  },
  {
   "cell_type": "markdown",
   "id": "f64a4392",
   "metadata": {},
   "source": [
    "## Between"
   ]
  },
  {
   "cell_type": "code",
   "execution_count": 567,
   "id": "00e7b1ed",
   "metadata": {},
   "outputs": [
    {
     "name": "stdout",
     "output_type": "stream",
     "text": [
      "+---------+---------------------------------------+\n",
      "|firstname|((salary >= 4000) AND (salary <= 5000))|\n",
      "+---------+---------------------------------------+\n",
      "|    James|                                  false|\n",
      "|  Michael|                                   true|\n",
      "|   Robert|                                   true|\n",
      "|    Maria|                                   true|\n",
      "|      Jen|                                  false|\n",
      "|Prabhakar|                                   true|\n",
      "|  Praveen|                                  false|\n",
      "|   Rajesh|                                  false|\n",
      "|  Pramodh|                                   true|\n",
      "|     Ajay|                                  false|\n",
      "|      Bob|                                  false|\n",
      "|    Chris|                                  false|\n",
      "|     null|                                   null|\n",
      "+---------+---------------------------------------+\n",
      "\n"
     ]
    }
   ],
   "source": [
    "df.select('firstname', df.salary.between(4000, 5000)).show()"
   ]
  },
  {
   "cell_type": "markdown",
   "id": "2fdf76de",
   "metadata": {},
   "source": [
    "# Add, Update & Remove columns from Dataframe"
   ]
  },
  {
   "cell_type": "markdown",
   "id": "58702d08",
   "metadata": {},
   "source": [
    "## Adding column"
   ]
  },
  {
   "cell_type": "code",
   "execution_count": 568,
   "id": "0e5306ad",
   "metadata": {},
   "outputs": [
    {
     "name": "stdout",
     "output_type": "stream",
     "text": [
      "+----+---------+----------+--------+---+----------+----------+----------+----------+------+------+----------+\n",
      "|SrNo|firstname|middlename|lastname|age|experiance|     skill|      city|       dob|gender|salary|     Place|\n",
      "+----+---------+----------+--------+---+----------+----------+----------+----------+------+------+----------+\n",
      "|   1|    James|      null|   Smith| 51|        10|      .Net|   Newyork|1991-04-01|     M|  3000|   Newyork|\n",
      "|   2|  Michael|      Rose|    null| 45|        11|      Ruby|   Newyork|2000-05-19|     M|  4000|   Newyork|\n",
      "|   3|   Robert|      null|Williams| 32|        10|     Scala|California|1978-09-05|     M|  4000|California|\n",
      "|   4|    Maria|      Anne|   Jones| 36|         9|      Java| Hyderabad|1967-12-01|     F|  5000| Hyderabad|\n",
      "|   5|      Jen|      Mary|   Brown| 39|         5|     Scala|    Nagpur|1980-02-17|     F|     0|    Nagpur|\n",
      "|   6|Prabhakar|         B|       G| 33|        11|    Python|      Pune|1967-12-01|     M|  5000|      Pune|\n",
      "|   7|  Praveen|         B|       G| 21|        13|      Java| Hyderabad|1967-12-01|     M|  6500| Hyderabad|\n",
      "|   8|   Rajesh|         B|       G| 25|         2|     Scala|   Nellore|1967-12-01|     M|  5100|   Nellore|\n",
      "|   9|  Pramodh|         B|       G| 49|         9|      Ruby|      Pune|1967-12-01|     M|  5000|      Pune|\n",
      "|  10|     Ajay|      null|    null| 50|        10|      null|      Pune|1967-12-01|     M|  2500|      Pune|\n",
      "|  11|      Bob|         D|    null| 43|        14|         R| Hyderabad|1967-12-01|     M|  2500| Hyderabad|\n",
      "|  12|    Chris|         B|   Smith| 47|        12|JavaScript|      null|1967-12-01|     M|  2500|      null|\n",
      "|  13|     null|      null|    null| 55|      null|      null|      null|      null|  null|  null|      null|\n",
      "+----+---------+----------+--------+---+----------+----------+----------+----------+------+------+----------+\n",
      "\n"
     ]
    }
   ],
   "source": [
    "df.withColumn('Place', df.city).show()"
   ]
  },
  {
   "cell_type": "markdown",
   "id": "99db0bce",
   "metadata": {},
   "source": [
    "## Updating column"
   ]
  },
  {
   "cell_type": "code",
   "execution_count": 569,
   "id": "270f46f9",
   "metadata": {},
   "outputs": [
    {
     "name": "stdout",
     "output_type": "stream",
     "text": [
      "+----+---------+----------+--------+---+----------+----------+----------+-------------+------+------+\n",
      "|SrNo|firstname|middlename|lastname|age|experiance|     skill|      city|Date Of Birth|gender|salary|\n",
      "+----+---------+----------+--------+---+----------+----------+----------+-------------+------+------+\n",
      "|   1|    James|      null|   Smith| 51|        10|      .Net|   Newyork|   1991-04-01|     M|  3000|\n",
      "|   2|  Michael|      Rose|    null| 45|        11|      Ruby|   Newyork|   2000-05-19|     M|  4000|\n",
      "|   3|   Robert|      null|Williams| 32|        10|     Scala|California|   1978-09-05|     M|  4000|\n",
      "|   4|    Maria|      Anne|   Jones| 36|         9|      Java| Hyderabad|   1967-12-01|     F|  5000|\n",
      "|   5|      Jen|      Mary|   Brown| 39|         5|     Scala|    Nagpur|   1980-02-17|     F|     0|\n",
      "|   6|Prabhakar|         B|       G| 33|        11|    Python|      Pune|   1967-12-01|     M|  5000|\n",
      "|   7|  Praveen|         B|       G| 21|        13|      Java| Hyderabad|   1967-12-01|     M|  6500|\n",
      "|   8|   Rajesh|         B|       G| 25|         2|     Scala|   Nellore|   1967-12-01|     M|  5100|\n",
      "|   9|  Pramodh|         B|       G| 49|         9|      Ruby|      Pune|   1967-12-01|     M|  5000|\n",
      "|  10|     Ajay|      null|    null| 50|        10|      null|      Pune|   1967-12-01|     M|  2500|\n",
      "|  11|      Bob|         D|    null| 43|        14|         R| Hyderabad|   1967-12-01|     M|  2500|\n",
      "|  12|    Chris|         B|   Smith| 47|        12|JavaScript|      null|   1967-12-01|     M|  2500|\n",
      "|  13|     null|      null|    null| 55|      null|      null|      null|         null|  null|  null|\n",
      "+----+---------+----------+--------+---+----------+----------+----------+-------------+------+------+\n",
      "\n"
     ]
    }
   ],
   "source": [
    "df.withColumnRenamed('dob', 'Date Of Birth').show()"
   ]
  },
  {
   "cell_type": "markdown",
   "id": "c6086fe1",
   "metadata": {},
   "source": [
    "## Remove column"
   ]
  },
  {
   "cell_type": "code",
   "execution_count": 570,
   "id": "b3c02616",
   "metadata": {},
   "outputs": [
    {
     "name": "stdout",
     "output_type": "stream",
     "text": [
      "+----+---------+--------+---+----------+----------+----------+----------+------+------+\n",
      "|SrNo|firstname|lastname|age|experiance|     skill|      city|       dob|gender|salary|\n",
      "+----+---------+--------+---+----------+----------+----------+----------+------+------+\n",
      "|   1|    James|   Smith| 51|        10|      .Net|   Newyork|1991-04-01|     M|  3000|\n",
      "|   2|  Michael|    null| 45|        11|      Ruby|   Newyork|2000-05-19|     M|  4000|\n",
      "|   3|   Robert|Williams| 32|        10|     Scala|California|1978-09-05|     M|  4000|\n",
      "|   4|    Maria|   Jones| 36|         9|      Java| Hyderabad|1967-12-01|     F|  5000|\n",
      "|   5|      Jen|   Brown| 39|         5|     Scala|    Nagpur|1980-02-17|     F|     0|\n",
      "|   6|Prabhakar|       G| 33|        11|    Python|      Pune|1967-12-01|     M|  5000|\n",
      "|   7|  Praveen|       G| 21|        13|      Java| Hyderabad|1967-12-01|     M|  6500|\n",
      "|   8|   Rajesh|       G| 25|         2|     Scala|   Nellore|1967-12-01|     M|  5100|\n",
      "|   9|  Pramodh|       G| 49|         9|      Ruby|      Pune|1967-12-01|     M|  5000|\n",
      "|  10|     Ajay|    null| 50|        10|      null|      Pune|1967-12-01|     M|  2500|\n",
      "|  11|      Bob|    null| 43|        14|         R| Hyderabad|1967-12-01|     M|  2500|\n",
      "|  12|    Chris|   Smith| 47|        12|JavaScript|      null|1967-12-01|     M|  2500|\n",
      "|  13|     null|    null| 55|      null|      null|      null|      null|  null|  null|\n",
      "+----+---------+--------+---+----------+----------+----------+----------+------+------+\n",
      "\n"
     ]
    }
   ],
   "source": [
    "df.drop('middlename').show()"
   ]
  },
  {
   "cell_type": "code",
   "execution_count": 571,
   "id": "8b7a1e8f",
   "metadata": {
    "scrolled": true
   },
   "outputs": [
    {
     "name": "stdout",
     "output_type": "stream",
     "text": [
      "+----+---------+----------+--------+---+----------+------+---------+----------+------+------+\n",
      "|SrNo|firstname|middlename|lastname|age|experiance| skill|     city|       dob|gender|salary|\n",
      "+----+---------+----------+--------+---+----------+------+---------+----------+------+------+\n",
      "|   4|    Maria|      Anne|   Jones| 36|         9|  Java|Hyderabad|1967-12-01|     F|  5000|\n",
      "|   5|      Jen|      Mary|   Brown| 39|         5| Scala|   Nagpur|1980-02-17|     F|     0|\n",
      "|   6|Prabhakar|         B|       G| 33|        11|Python|     Pune|1967-12-01|     M|  5000|\n",
      "|   7|  Praveen|         B|       G| 21|        13|  Java|Hyderabad|1967-12-01|     M|  6500|\n",
      "|   8|   Rajesh|         B|       G| 25|         2| Scala|  Nellore|1967-12-01|     M|  5100|\n",
      "|   9|  Pramodh|         B|       G| 49|         9|  Ruby|     Pune|1967-12-01|     M|  5000|\n",
      "+----+---------+----------+--------+---+----------+------+---------+----------+------+------+\n",
      "\n"
     ]
    }
   ],
   "source": [
    "df.na.drop().show()"
   ]
  },
  {
   "cell_type": "markdown",
   "id": "d124e823",
   "metadata": {},
   "source": [
    "# Drop if all columns contains NULL/ NONE "
   ]
  },
  {
   "cell_type": "code",
   "execution_count": 572,
   "id": "9e0238b9",
   "metadata": {},
   "outputs": [
    {
     "name": "stdout",
     "output_type": "stream",
     "text": [
      "+----+---------+----------+--------+---+----------+----------+----------+----------+------+------+\n",
      "|SrNo|firstname|middlename|lastname|age|experiance|     skill|      city|       dob|gender|salary|\n",
      "+----+---------+----------+--------+---+----------+----------+----------+----------+------+------+\n",
      "|   1|    James|      null|   Smith| 51|        10|      .Net|   Newyork|1991-04-01|     M|  3000|\n",
      "|   2|  Michael|      Rose|    null| 45|        11|      Ruby|   Newyork|2000-05-19|     M|  4000|\n",
      "|   3|   Robert|      null|Williams| 32|        10|     Scala|California|1978-09-05|     M|  4000|\n",
      "|   4|    Maria|      Anne|   Jones| 36|         9|      Java| Hyderabad|1967-12-01|     F|  5000|\n",
      "|   5|      Jen|      Mary|   Brown| 39|         5|     Scala|    Nagpur|1980-02-17|     F|     0|\n",
      "|   6|Prabhakar|         B|       G| 33|        11|    Python|      Pune|1967-12-01|     M|  5000|\n",
      "|   7|  Praveen|         B|       G| 21|        13|      Java| Hyderabad|1967-12-01|     M|  6500|\n",
      "|   8|   Rajesh|         B|       G| 25|         2|     Scala|   Nellore|1967-12-01|     M|  5100|\n",
      "|   9|  Pramodh|         B|       G| 49|         9|      Ruby|      Pune|1967-12-01|     M|  5000|\n",
      "|  10|     Ajay|      null|    null| 50|        10|      null|      Pune|1967-12-01|     M|  2500|\n",
      "|  11|      Bob|         D|    null| 43|        14|         R| Hyderabad|1967-12-01|     M|  2500|\n",
      "|  12|    Chris|         B|   Smith| 47|        12|JavaScript|      null|1967-12-01|     M|  2500|\n",
      "|  13|     null|      null|    null| 55|      null|      null|      null|      null|  null|  null|\n",
      "+----+---------+----------+--------+---+----------+----------+----------+----------+------+------+\n",
      "\n"
     ]
    }
   ],
   "source": [
    "df.na.drop(how='all').show()"
   ]
  },
  {
   "cell_type": "markdown",
   "id": "7d871f37",
   "metadata": {},
   "source": [
    "# Drop rows if 'any' column contains NULL/ NONE "
   ]
  },
  {
   "cell_type": "code",
   "execution_count": 573,
   "id": "eaa7d182",
   "metadata": {},
   "outputs": [
    {
     "name": "stdout",
     "output_type": "stream",
     "text": [
      "+----+---------+----------+--------+---+----------+------+---------+----------+------+------+\n",
      "|SrNo|firstname|middlename|lastname|age|experiance| skill|     city|       dob|gender|salary|\n",
      "+----+---------+----------+--------+---+----------+------+---------+----------+------+------+\n",
      "|   4|    Maria|      Anne|   Jones| 36|         9|  Java|Hyderabad|1967-12-01|     F|  5000|\n",
      "|   5|      Jen|      Mary|   Brown| 39|         5| Scala|   Nagpur|1980-02-17|     F|     0|\n",
      "|   6|Prabhakar|         B|       G| 33|        11|Python|     Pune|1967-12-01|     M|  5000|\n",
      "|   7|  Praveen|         B|       G| 21|        13|  Java|Hyderabad|1967-12-01|     M|  6500|\n",
      "|   8|   Rajesh|         B|       G| 25|         2| Scala|  Nellore|1967-12-01|     M|  5100|\n",
      "|   9|  Pramodh|         B|       G| 49|         9|  Ruby|     Pune|1967-12-01|     M|  5000|\n",
      "+----+---------+----------+--------+---+----------+------+---------+----------+------+------+\n",
      "\n"
     ]
    }
   ],
   "source": [
    "df.na.drop(how='any').show()"
   ]
  },
  {
   "cell_type": "markdown",
   "id": "614cde03",
   "metadata": {},
   "source": [
    "# Filling the missing/ blank values any column with 'Missing Value'"
   ]
  },
  {
   "cell_type": "code",
   "execution_count": 574,
   "id": "0d1c24f9",
   "metadata": {},
   "outputs": [
    {
     "name": "stdout",
     "output_type": "stream",
     "text": [
      "+----+-------------+-------------+-------------+---+----------+-------------+-------------+-------------+-------------+------+\n",
      "|SrNo|    firstname|   middlename|     lastname|age|experiance|        skill|         city|          dob|       gender|salary|\n",
      "+----+-------------+-------------+-------------+---+----------+-------------+-------------+-------------+-------------+------+\n",
      "|   1|        James|Missing Value|        Smith| 51|        10|         .Net|      Newyork|   1991-04-01|            M|  3000|\n",
      "|   2|      Michael|         Rose|Missing Value| 45|        11|         Ruby|      Newyork|   2000-05-19|            M|  4000|\n",
      "|   3|       Robert|Missing Value|     Williams| 32|        10|        Scala|   California|   1978-09-05|            M|  4000|\n",
      "|   4|        Maria|         Anne|        Jones| 36|         9|         Java|    Hyderabad|   1967-12-01|            F|  5000|\n",
      "|   5|          Jen|         Mary|        Brown| 39|         5|        Scala|       Nagpur|   1980-02-17|            F|     0|\n",
      "|   6|    Prabhakar|            B|            G| 33|        11|       Python|         Pune|   1967-12-01|            M|  5000|\n",
      "|   7|      Praveen|            B|            G| 21|        13|         Java|    Hyderabad|   1967-12-01|            M|  6500|\n",
      "|   8|       Rajesh|            B|            G| 25|         2|        Scala|      Nellore|   1967-12-01|            M|  5100|\n",
      "|   9|      Pramodh|            B|            G| 49|         9|         Ruby|         Pune|   1967-12-01|            M|  5000|\n",
      "|  10|         Ajay|Missing Value|Missing Value| 50|        10|Missing Value|         Pune|   1967-12-01|            M|  2500|\n",
      "|  11|          Bob|            D|Missing Value| 43|        14|            R|    Hyderabad|   1967-12-01|            M|  2500|\n",
      "|  12|        Chris|            B|        Smith| 47|        12|   JavaScript|Missing Value|   1967-12-01|            M|  2500|\n",
      "|  13|Missing Value|Missing Value|Missing Value| 55|         0|Missing Value|Missing Value|Missing Value|Missing Value|     0|\n",
      "+----+-------------+-------------+-------------+---+----------+-------------+-------------+-------------+-------------+------+\n",
      "\n"
     ]
    }
   ],
   "source": [
    "df.na.fill(0,['salary', 'experiance']).na.fill('Missing Value').show()"
   ]
  },
  {
   "cell_type": "markdown",
   "id": "0c7e37b1",
   "metadata": {},
   "source": [
    "# Dataframes - Filter operations\n",
    "Filter Operation<br/>\n",
    "&,|,==<br/>\n",
    "~<br/>\n"
   ]
  },
  {
   "cell_type": "code",
   "execution_count": 575,
   "id": "b5b83495",
   "metadata": {},
   "outputs": [
    {
     "name": "stdout",
     "output_type": "stream",
     "text": [
      "+----+---------+----------+--------+---+----------+----------+---------+----------+------+------+\n",
      "|SrNo|firstname|middlename|lastname|age|experiance|     skill|     city|       dob|gender|salary|\n",
      "+----+---------+----------+--------+---+----------+----------+---------+----------+------+------+\n",
      "|   2|  Michael|      Rose|    null| 45|        11|      Ruby|  Newyork|2000-05-19|     M|  4000|\n",
      "|   6|Prabhakar|         B|       G| 33|        11|    Python|     Pune|1967-12-01|     M|  5000|\n",
      "|   7|  Praveen|         B|       G| 21|        13|      Java|Hyderabad|1967-12-01|     M|  6500|\n",
      "|  11|      Bob|         D|    null| 43|        14|         R|Hyderabad|1967-12-01|     M|  2500|\n",
      "|  12|    Chris|         B|   Smith| 47|        12|JavaScript|     null|1967-12-01|     M|  2500|\n",
      "+----+---------+----------+--------+---+----------+----------+---------+----------+------+------+\n",
      "\n"
     ]
    }
   ],
   "source": [
    "df.filter(\"experiance > 10\").show()"
   ]
  },
  {
   "cell_type": "code",
   "execution_count": 576,
   "id": "594107bd",
   "metadata": {},
   "outputs": [
    {
     "name": "stdout",
     "output_type": "stream",
     "text": [
      "+----+---------+--------+\n",
      "|SrNo|firstname|lastname|\n",
      "+----+---------+--------+\n",
      "|   2|  Michael|    null|\n",
      "|   6|Prabhakar|       G|\n",
      "|   7|  Praveen|       G|\n",
      "|  11|      Bob|    null|\n",
      "|  12|    Chris|   Smith|\n",
      "+----+---------+--------+\n",
      "\n"
     ]
    }
   ],
   "source": [
    "df.filter('experiance > 10').select(['SrNo', 'firstname','lastname']).show()"
   ]
  },
  {
   "cell_type": "code",
   "execution_count": 577,
   "id": "d23fe16d",
   "metadata": {},
   "outputs": [
    {
     "name": "stdout",
     "output_type": "stream",
     "text": [
      "+----+---------+----------+--------+---+----------+----------+---------+----------+------+------+\n",
      "|SrNo|firstname|middlename|lastname|age|experiance|     skill|     city|       dob|gender|salary|\n",
      "+----+---------+----------+--------+---+----------+----------+---------+----------+------+------+\n",
      "|   2|  Michael|      Rose|    null| 45|        11|      Ruby|  Newyork|2000-05-19|     M|  4000|\n",
      "|   6|Prabhakar|         B|       G| 33|        11|    Python|     Pune|1967-12-01|     M|  5000|\n",
      "|   7|  Praveen|         B|       G| 21|        13|      Java|Hyderabad|1967-12-01|     M|  6500|\n",
      "|  11|      Bob|         D|    null| 43|        14|         R|Hyderabad|1967-12-01|     M|  2500|\n",
      "|  12|    Chris|         B|   Smith| 47|        12|JavaScript|     null|1967-12-01|     M|  2500|\n",
      "+----+---------+----------+--------+---+----------+----------+---------+----------+------+------+\n",
      "\n"
     ]
    }
   ],
   "source": [
    "df_temp = df.na.fill(0,['experiance','salary'])\n",
    "# df_temp.filter(df['experiance'] >= 10 | df['experiance'] <= 15).show()\n",
    "df_temp.filter(df_temp['experiance'] > 10).show()"
   ]
  },
  {
   "cell_type": "markdown",
   "id": "7140af80",
   "metadata": {},
   "source": [
    "# Agregated And GroupBy functions"
   ]
  },
  {
   "cell_type": "code",
   "execution_count": 578,
   "id": "fef7d318",
   "metadata": {},
   "outputs": [
    {
     "name": "stdout",
     "output_type": "stream",
     "text": [
      "+----+---------+----------+--------+---+----------+-----+----------+----------+------+------+\n",
      "|SrNo|firstname|middlename|lastname|age|experiance|skill|      city|       dob|gender|salary|\n",
      "+----+---------+----------+--------+---+----------+-----+----------+----------+------+------+\n",
      "|   1|    James|      null|   Smith| 51|        10| .Net|   Newyork|1991-04-01|     M|  3000|\n",
      "|   3|   Robert|      null|Williams| 32|        10|Scala|California|1978-09-05|     M|  4000|\n",
      "|   4|    Maria|      Anne|   Jones| 36|         9| Java| Hyderabad|1967-12-01|     F|  5000|\n",
      "|   5|      Jen|      Mary|   Brown| 39|         5|Scala|    Nagpur|1980-02-17|     F|     0|\n",
      "|   8|   Rajesh|         B|       G| 25|         2|Scala|   Nellore|1967-12-01|     M|  5100|\n",
      "|   9|  Pramodh|         B|       G| 49|         9| Ruby|      Pune|1967-12-01|     M|  5000|\n",
      "|  10|     Ajay|      null|    null| 50|        10| null|      Pune|1967-12-01|     M|  2500|\n",
      "|  13|     null|      null|    null| 55|         0| null|      null|      null|  null|     0|\n",
      "+----+---------+----------+--------+---+----------+-----+----------+----------+------+------+\n",
      "\n"
     ]
    }
   ],
   "source": [
    "df_temp.filter(~(df_temp['experiance'] > 10)).show()"
   ]
  },
  {
   "cell_type": "code",
   "execution_count": 579,
   "id": "375ec571",
   "metadata": {},
   "outputs": [
    {
     "name": "stdout",
     "output_type": "stream",
     "text": [
      "root\n",
      " |-- SrNo: long (nullable = true)\n",
      " |-- firstname: string (nullable = true)\n",
      " |-- middlename: string (nullable = true)\n",
      " |-- lastname: string (nullable = true)\n",
      " |-- age: long (nullable = true)\n",
      " |-- experiance: long (nullable = true)\n",
      " |-- skill: string (nullable = true)\n",
      " |-- city: string (nullable = true)\n",
      " |-- dob: string (nullable = true)\n",
      " |-- gender: string (nullable = true)\n",
      " |-- salary: long (nullable = true)\n",
      "\n"
     ]
    }
   ],
   "source": [
    "df_temp.printSchema()"
   ]
  },
  {
   "cell_type": "markdown",
   "id": "b118c849",
   "metadata": {},
   "source": [
    "# GroupBy"
   ]
  },
  {
   "cell_type": "code",
   "execution_count": 580,
   "id": "6076f06e",
   "metadata": {},
   "outputs": [
    {
     "name": "stdout",
     "output_type": "stream",
     "text": [
      "+----------+---------+--------+---------------+-----------+\n",
      "|      city|sum(SrNo)|sum(age)|sum(experiance)|sum(salary)|\n",
      "+----------+---------+--------+---------------+-----------+\n",
      "|      null|       25|     102|             12|       2500|\n",
      "|   Newyork|        3|      96|             21|       7000|\n",
      "|   Nellore|        8|      25|              2|       5100|\n",
      "|      Pune|       25|     132|             30|      12500|\n",
      "|    Nagpur|        5|      39|              5|          0|\n",
      "| Hyderabad|       22|     100|             36|      14000|\n",
      "|California|        3|      32|             10|       4000|\n",
      "+----------+---------+--------+---------------+-----------+\n",
      "\n"
     ]
    }
   ],
   "source": [
    "df_temp.groupBy('city').sum().show()"
   ]
  },
  {
   "cell_type": "code",
   "execution_count": 581,
   "id": "78533ee7",
   "metadata": {},
   "outputs": [
    {
     "name": "stdout",
     "output_type": "stream",
     "text": [
      "+----------+---------+--------+---------------+-----------+\n",
      "|     skill|sum(SrNo)|sum(age)|sum(experiance)|sum(salary)|\n",
      "+----------+---------+--------+---------------+-----------+\n",
      "|      .Net|        1|      51|             10|       3000|\n",
      "|JavaScript|       12|      47|             12|       2500|\n",
      "|      null|       23|     105|             10|       2500|\n",
      "|         R|       11|      43|             14|       2500|\n",
      "|     Scala|       16|      96|             17|       9100|\n",
      "|      Ruby|       11|      94|             20|       9000|\n",
      "|    Python|        6|      33|             11|       5000|\n",
      "|      Java|       11|      57|             22|      11500|\n",
      "+----------+---------+--------+---------------+-----------+\n",
      "\n"
     ]
    }
   ],
   "source": [
    "df_temp.groupBy('skill').sum().show()"
   ]
  },
  {
   "cell_type": "code",
   "execution_count": 582,
   "id": "7439b213",
   "metadata": {},
   "outputs": [
    {
     "name": "stdout",
     "output_type": "stream",
     "text": [
      "+----------+-----+\n",
      "|     skill|count|\n",
      "+----------+-----+\n",
      "|      .Net|    1|\n",
      "|JavaScript|    1|\n",
      "|      null|    2|\n",
      "|         R|    1|\n",
      "|     Scala|    3|\n",
      "|      Ruby|    2|\n",
      "|    Python|    1|\n",
      "|      Java|    2|\n",
      "+----------+-----+\n",
      "\n"
     ]
    }
   ],
   "source": [
    "df_temp.groupBy('skill').count().show()"
   ]
  },
  {
   "cell_type": "code",
   "execution_count": 583,
   "id": "87b268ac",
   "metadata": {},
   "outputs": [
    {
     "name": "stdout",
     "output_type": "stream",
     "text": [
      "+------+---------+--------+---------------+-----------+\n",
      "|salary|min(SrNo)|min(age)|min(experiance)|min(salary)|\n",
      "+------+---------+--------+---------------+-----------+\n",
      "|     0|        5|      39|              0|          0|\n",
      "|  5100|        8|      25|              2|       5100|\n",
      "|  4000|        2|      32|             10|       4000|\n",
      "|  6500|        7|      21|             13|       6500|\n",
      "|  2500|       10|      43|             10|       2500|\n",
      "|  3000|        1|      51|             10|       3000|\n",
      "|  5000|        4|      33|              9|       5000|\n",
      "+------+---------+--------+---------------+-----------+\n",
      "\n"
     ]
    }
   ],
   "source": [
    "df_temp.groupBy('salary').min().show()"
   ]
  },
  {
   "cell_type": "code",
   "execution_count": 584,
   "id": "c9ac5261",
   "metadata": {},
   "outputs": [
    {
     "name": "stdout",
     "output_type": "stream",
     "text": [
      "+------+---------+--------+---------------+-----------+\n",
      "|salary|max(SrNo)|max(age)|max(experiance)|max(salary)|\n",
      "+------+---------+--------+---------------+-----------+\n",
      "|     0|       13|      55|              5|          0|\n",
      "|  5100|        8|      25|              2|       5100|\n",
      "|  4000|        3|      45|             11|       4000|\n",
      "|  6500|        7|      21|             13|       6500|\n",
      "|  2500|       12|      50|             14|       2500|\n",
      "|  3000|        1|      51|             10|       3000|\n",
      "|  5000|        9|      49|             11|       5000|\n",
      "+------+---------+--------+---------------+-----------+\n",
      "\n"
     ]
    }
   ],
   "source": [
    "df_temp.groupBy('salary').max().show()"
   ]
  },
  {
   "cell_type": "code",
   "execution_count": 585,
   "id": "b1fcbfd9",
   "metadata": {},
   "outputs": [
    {
     "name": "stdout",
     "output_type": "stream",
     "text": [
      "+------+-----------------+------------------+-----------------+-----------+\n",
      "|salary|        avg(SrNo)|          avg(age)|  avg(experiance)|avg(salary)|\n",
      "+------+-----------------+------------------+-----------------+-----------+\n",
      "|     0|              9.0|              47.0|              2.5|        0.0|\n",
      "|  5100|              8.0|              25.0|              2.0|     5100.0|\n",
      "|  4000|              2.5|              38.5|             10.5|     4000.0|\n",
      "|  6500|              7.0|              21.0|             13.0|     6500.0|\n",
      "|  2500|             11.0|46.666666666666664|             12.0|     2500.0|\n",
      "|  3000|              1.0|              51.0|             10.0|     3000.0|\n",
      "|  5000|6.333333333333333|39.333333333333336|9.666666666666666|     5000.0|\n",
      "+------+-----------------+------------------+-----------------+-----------+\n",
      "\n"
     ]
    }
   ],
   "source": [
    "df_temp.groupBy('salary').avg().show()"
   ]
  },
  {
   "cell_type": "code",
   "execution_count": 586,
   "id": "89862319",
   "metadata": {},
   "outputs": [
    {
     "name": "stdout",
     "output_type": "stream",
     "text": [
      "+----+---------+----------+--------+---+----------+----------+----------+----------+------+------+\n",
      "|SrNo|firstname|middlename|lastname|age|experiance|     skill|      city|       dob|gender|salary|\n",
      "+----+---------+----------+--------+---+----------+----------+----------+----------+------+------+\n",
      "|   1|    James|      null|   Smith| 51|        10|      .Net|   Newyork|1991-04-01|     M|  3000|\n",
      "|   2|  Michael|      Rose|    null| 45|        11|      Ruby|   Newyork|2000-05-19|     M|  4000|\n",
      "|   3|   Robert|      null|Williams| 32|        10|     Scala|California|1978-09-05|     M|  4000|\n",
      "|   4|    Maria|      Anne|   Jones| 36|         9|      Java| Hyderabad|1967-12-01|     F|  5000|\n",
      "|   5|      Jen|      Mary|   Brown| 39|         5|     Scala|    Nagpur|1980-02-17|     F|     0|\n",
      "|   6|Prabhakar|         B|       G| 33|        11|    Python|      Pune|1967-12-01|     M|  5000|\n",
      "|   7|  Praveen|         B|       G| 21|        13|      Java| Hyderabad|1967-12-01|     M|  6500|\n",
      "|   8|   Rajesh|         B|       G| 25|         2|     Scala|   Nellore|1967-12-01|     M|  5100|\n",
      "|   9|  Pramodh|         B|       G| 49|         9|      Ruby|      Pune|1967-12-01|     M|  5000|\n",
      "|  10|     Ajay|      null|    null| 50|        10|      null|      Pune|1967-12-01|     M|  2500|\n",
      "|  11|      Bob|         D|    null| 43|        14|         R| Hyderabad|1967-12-01|     M|  2500|\n",
      "|  12|    Chris|         B|   Smith| 47|        12|JavaScript|      null|1967-12-01|     M|  2500|\n",
      "|  13|     null|      null|    null| 55|         0|      null|      null|      null|  null|     0|\n",
      "+----+---------+----------+--------+---+----------+----------+----------+----------+------+------+\n",
      "\n"
     ]
    }
   ],
   "source": [
    "df_temp.show()"
   ]
  },
  {
   "cell_type": "code",
   "execution_count": null,
   "id": "f1af8621",
   "metadata": {},
   "outputs": [],
   "source": []
  }
 ],
 "metadata": {
  "kernelspec": {
   "display_name": "Python 3 (ipykernel)",
   "language": "python",
   "name": "python3"
  },
  "language_info": {
   "codemirror_mode": {
    "name": "ipython",
    "version": 3
   },
   "file_extension": ".py",
   "mimetype": "text/x-python",
   "name": "python",
   "nbconvert_exporter": "python",
   "pygments_lexer": "ipython3",
   "version": "3.8.2"
  }
 },
 "nbformat": 4,
 "nbformat_minor": 5
}
